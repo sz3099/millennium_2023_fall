{
 "cells": [
  {
   "cell_type": "markdown",
   "id": "b2056658",
   "metadata": {},
   "source": [
    "## Use the Fred API"
   ]
  },
  {
   "cell_type": "code",
   "execution_count": 1,
   "id": "32fd209a",
   "metadata": {},
   "outputs": [
    {
     "data": {
      "text/plain": [
       "True"
      ]
     },
     "execution_count": 1,
     "metadata": {},
     "output_type": "execute_result"
    }
   ],
   "source": [
    "from full_fred.fred import Fred\n",
    "import pandas as pd\n",
    "fred = Fred('fred_key.txt')\n",
    "fred.set_api_key_file('fred_key.txt')"
   ]
  },
  {
   "cell_type": "code",
   "execution_count": 2,
   "id": "4ae8d42a",
   "metadata": {},
   "outputs": [
    {
     "data": {
      "text/plain": [
       "False"
      ]
     },
     "execution_count": 2,
     "metadata": {},
     "output_type": "execute_result"
    }
   ],
   "source": [
    "fred.env_api_key_found()"
   ]
  },
  {
   "cell_type": "code",
   "execution_count": 3,
   "id": "5be4ac3c",
   "metadata": {},
   "outputs": [
    {
     "data": {
      "text/html": [
       "<div>\n",
       "<style scoped>\n",
       "    .dataframe tbody tr th:only-of-type {\n",
       "        vertical-align: middle;\n",
       "    }\n",
       "\n",
       "    .dataframe tbody tr th {\n",
       "        vertical-align: top;\n",
       "    }\n",
       "\n",
       "    .dataframe thead th {\n",
       "        text-align: right;\n",
       "    }\n",
       "</style>\n",
       "<table border=\"1\" class=\"dataframe\">\n",
       "  <thead>\n",
       "    <tr style=\"text-align: right;\">\n",
       "      <th></th>\n",
       "      <th>date</th>\n",
       "      <th>value</th>\n",
       "    </tr>\n",
       "  </thead>\n",
       "  <tbody>\n",
       "    <tr>\n",
       "      <th>0</th>\n",
       "      <td>1987-01-01</td>\n",
       "      <td>63.735</td>\n",
       "    </tr>\n",
       "    <tr>\n",
       "      <th>1</th>\n",
       "      <td>1987-02-01</td>\n",
       "      <td>64.135</td>\n",
       "    </tr>\n",
       "    <tr>\n",
       "      <th>2</th>\n",
       "      <td>1987-03-01</td>\n",
       "      <td>64.47</td>\n",
       "    </tr>\n",
       "    <tr>\n",
       "      <th>3</th>\n",
       "      <td>1987-04-01</td>\n",
       "      <td>64.973</td>\n",
       "    </tr>\n",
       "    <tr>\n",
       "      <th>4</th>\n",
       "      <td>1987-05-01</td>\n",
       "      <td>65.547</td>\n",
       "    </tr>\n",
       "    <tr>\n",
       "      <th>...</th>\n",
       "      <td>...</td>\n",
       "      <td>...</td>\n",
       "    </tr>\n",
       "    <tr>\n",
       "      <th>434</th>\n",
       "      <td>2023-03-01</td>\n",
       "      <td>297.318</td>\n",
       "    </tr>\n",
       "    <tr>\n",
       "      <th>435</th>\n",
       "      <td>2023-04-01</td>\n",
       "      <td>301.462</td>\n",
       "    </tr>\n",
       "    <tr>\n",
       "      <th>436</th>\n",
       "      <td>2023-05-01</td>\n",
       "      <td>305.421</td>\n",
       "    </tr>\n",
       "    <tr>\n",
       "      <th>437</th>\n",
       "      <td>2023-06-01</td>\n",
       "      <td>308.316</td>\n",
       "    </tr>\n",
       "    <tr>\n",
       "      <th>438</th>\n",
       "      <td>2023-07-01</td>\n",
       "      <td>310.158</td>\n",
       "    </tr>\n",
       "  </tbody>\n",
       "</table>\n",
       "<p>439 rows × 2 columns</p>\n",
       "</div>"
      ],
      "text/plain": [
       "           date    value\n",
       "0    1987-01-01   63.735\n",
       "1    1987-02-01   64.135\n",
       "2    1987-03-01    64.47\n",
       "3    1987-04-01   64.973\n",
       "4    1987-05-01   65.547\n",
       "..          ...      ...\n",
       "434  2023-03-01  297.318\n",
       "435  2023-04-01  301.462\n",
       "436  2023-05-01  305.421\n",
       "437  2023-06-01  308.316\n",
       "438  2023-07-01  310.158\n",
       "\n",
       "[439 rows x 2 columns]"
      ]
     },
     "execution_count": 3,
     "metadata": {},
     "output_type": "execute_result"
    }
   ],
   "source": [
    "## fetch the main data -- home price index\n",
    "home_price = fred.get_series_df(\"CSUSHPINSA\").drop([\"realtime_start\", \"realtime_end\"], axis = 1)\n",
    "home_price = home_price[home_price[\"value\"] != \".\"].reset_index(drop = True)\n",
    "home_price"
   ]
  },
  {
   "cell_type": "code",
   "execution_count": 4,
   "id": "5f7226ad",
   "metadata": {},
   "outputs": [],
   "source": [
    "## save the data \n",
    "home_price.to_csv(\"../data/national_home_price_index.csv\", index = False)"
   ]
  },
  {
   "cell_type": "markdown",
   "id": "7a381acd",
   "metadata": {},
   "source": [
    "#### Choose some relevant indicators at FRED:\n",
    "\n",
    "1. Economic increment: GDP, savings, Capacity Utilization\n",
    "\n",
    "2. inflation: CPI, PPI, PCE\n",
    "\n",
    "3. Interest Rate: fed fund rate, real rate, tips rate\n",
    "\n",
    "4. Employment: unemployment rate, non-agricultural employment\n",
    "\n",
    "5. fiscal policy: bond issue / monetary policy\n",
    "\n",
    "6. Housing inventory \n",
    "\n",
    "7. House prices\n",
    "\n",
    "【FRED】\n",
    "\n",
    "Monthly:\n",
    "* 10-Year Real Interest Rate（REAINTRATREARAT10Y)\n",
    "* Capacity Utilization: Total Index (TCU)\n",
    "* Sticky Price Consumer Price Index (STICKCPIM157SFRBATL)\n",
    "*  Consumer Price Index for All Urban Consumers: All Items in U.S. City Average (CPIAUCSL)\n",
    "* Personal Consumption Expenditures (PCE)\n",
    "* Federal Funds Effective Rate (FEDFUNDS)\n",
    "* Unemployment Rate (UNRATE)\n",
    "* Employment Level - Nonagricultural Industries (LNS12035019) / Employment Level (CE16OV)\n",
    "* New Privately-Owned Housing Units Under Construction: Total Units (UNDCONTSA)\n",
    "* New Privately-Owned Housing Units Completed: Total Units (COMPUTSA)\n",
    "* Personal Saving Rate (PSAVERT)\n",
    "* New Privately-Owned Housing Units Started: Total Units (HOUST)\n",
    "* Median Sales Price for New Houses Sold in the United States (MSPNHSUS)\n",
    "* 30-Year Fixed Rate Mortgage Average in the United States (MORTGAGE30US)\n",
    "\n",
    "Quarterly: \n",
    "* (GDP) \n",
    "\n",
    "\n",
    "\n",
    "\n"
   ]
  },
  {
   "cell_type": "markdown",
   "id": "ae354826",
   "metadata": {},
   "source": [
    "#### Indicators documents: \n",
    "\n",
    "We need to assume that the monthly indicators listed above **release timely**, that is to say it can be used to predict the unreleased home price index with no look-ahead bias. Because the release of these timely indicators is usually delayed for only 1 month, while the home price index may be delayed longer, for about 1 quarter.  \n",
    "\n",
    "need adjustment to ensure no look-ahead bias: (quarterly and release 1 month later)\n",
    "* (GDP)"
   ]
  },
  {
   "cell_type": "code",
   "execution_count": 7,
   "id": "83a78a55",
   "metadata": {},
   "outputs": [],
   "source": [
    "## get the data \n",
    "data_dic = {\n",
    "    \"real_interest_rate\":\"REAINTRATREARAT10Y\",\n",
    "    \"capacity_util\":\"TCU\",\n",
    "    \"stickyCPI\":\"STICKCPIM157SFRBATL\",\n",
    "    \"CPI\":\"CPIAUCSL\",\n",
    "    \"PCE\":\"PCE\",\n",
    "    \"fed_fund_rate\":\"FEDFUNDS\",\n",
    "    \"unemploy_rate\":\"UNRATE\",\n",
    "    \"employ_level_nonagri\":\"LNS12035019\",\n",
    "    \"employ_level\":\"CE16OV\",\n",
    "    \"housing_started\":\"HOUST\",\n",
    "    \"housing_completed\":\"COMPUTSA\",\n",
    "    \"GDP\":\"GDP\",\n",
    "    \"personal_saving_rate\":\"PSAVERT\",\n",
    "    \"avg_house_prices\":\"MSPNHSUS\",\n",
    "    \"mortgage\":\"MORTGAGE30US\"\n",
    "}"
   ]
  },
  {
   "cell_type": "code",
   "execution_count": 8,
   "id": "55903e9b",
   "metadata": {},
   "outputs": [
    {
     "name": "stdout",
     "output_type": "stream",
     "text": [
      "Successfully load and save data: REAINTRATREARAT10Y\n",
      "Successfully load and save data: TCU\n",
      "Successfully load and save data: STICKCPIM157SFRBATL\n",
      "Successfully load and save data: CPIAUCSL\n",
      "Successfully load and save data: PCE\n",
      "Successfully load and save data: FEDFUNDS\n",
      "Successfully load and save data: UNRATE\n",
      "Successfully load and save data: LNS12035019\n",
      "Successfully load and save data: CE16OV\n",
      "Successfully load and save data: HOUST\n",
      "Successfully load and save data: COMPUTSA\n",
      "Successfully load and save data: GDP\n",
      "Successfully load and save data: PSAVERT\n",
      "Successfully load and save data: MSPNHSUS\n",
      "Successfully load and save data: MORTGAGE30US\n"
     ]
    }
   ],
   "source": [
    "## fetch the data\n",
    "def fetch_data(data_dic, address = \"../data/\"):\n",
    "    for key in data_dic.keys():\n",
    "        ticker = data_dic[key]\n",
    "        data = fred.get_series_df(ticker).drop([\"realtime_start\", \"realtime_end\"], axis = 1)\n",
    "        data = data[data[\"value\"] != \".\"].reset_index(drop = True)\n",
    "        data.to_csv(address + key + \".csv\", index = False)\n",
    "        print(\"Successfully load and save data: \"+ ticker)\n",
    "\n",
    "fetch_data(data_dic)"
   ]
  },
  {
   "cell_type": "code",
   "execution_count": null,
   "id": "4f487842",
   "metadata": {},
   "outputs": [],
   "source": [
    "### afjust the weekly data mortgage\n",
    "ticker = \"MORTGAGE30US\"\n",
    "data = fred.get_series_df(ticker).drop([\"realtime_start\", \"realtime_end\"], axis = 1)\n",
    "data = data[data[\"value\"] != \".\"].reset_index(drop = True)\n",
    "data[\"date\"] = data[\"date\"].apply(lambda x: pd.to_datetime(x))\n",
    "data[\"value\"] = pd.to_numeric(data[\"value\"])\n",
    "data = data.set_index(\"date\")\n",
    "data = data.resample(\"1M\").mean().reset_index()"
   ]
  },
  {
   "cell_type": "code",
   "execution_count": 34,
   "id": "3a188dfd",
   "metadata": {},
   "outputs": [],
   "source": [
    "data[\"date\"] = data[\"date\"].apply(lambda x: pd.to_datetime(\"%d-%.02d-01\"%(x.year, x.month)))\n",
    "data.to_csv(\"../data/mortgage\"+ \".csv\", index = False)"
   ]
  },
  {
   "cell_type": "markdown",
   "id": "9bbdfd63",
   "metadata": {},
   "source": [
    "## Use Yahoo API \n"
   ]
  },
  {
   "cell_type": "code",
   "execution_count": 9,
   "id": "07bbe266",
   "metadata": {},
   "outputs": [],
   "source": [
    "from yahoo_fin.stock_info import get_data\n",
    "import pandas as pd"
   ]
  },
  {
   "cell_type": "code",
   "execution_count": 10,
   "id": "3826919c",
   "metadata": {},
   "outputs": [
    {
     "name": "stdout",
     "output_type": "stream",
     "text": [
      "Successfully load and save data: goog\n",
      "Successfully load and save data: amzn\n",
      "Successfully load and save data: jpm\n",
      "Successfully load and save data: gme\n",
      "Successfully load and save data: xom\n",
      "Successfully load and save data: spy\n"
     ]
    }
   ],
   "source": [
    "start= \"01/01/2000\"\n",
    "end = \"10/19/2023\"\n",
    "tickers = [\"goog\", \"amzn\", \"jpm\", \"gme\", \"xom\", \"spy\"]\n",
    "datafile = \"../data/\"\n",
    "\n",
    "for tk in tickers:\n",
    "    data = get_data(tk, start_date = start, end_date = end, index_as_date = False,\n",
    "                interval = \"1d\") \n",
    "    data.to_csv(datafile + tk + \".csv\", index = False)\n",
    "    print(\"Successfully load and save data: \" + tk)"
   ]
  },
  {
   "cell_type": "code",
   "execution_count": null,
   "id": "fbd4b606",
   "metadata": {},
   "outputs": [],
   "source": []
  }
 ],
 "metadata": {
  "kernelspec": {
   "display_name": "Python 3 (ipykernel)",
   "language": "python",
   "name": "python3"
  },
  "language_info": {
   "codemirror_mode": {
    "name": "ipython",
    "version": 3
   },
   "file_extension": ".py",
   "mimetype": "text/x-python",
   "name": "python",
   "nbconvert_exporter": "python",
   "pygments_lexer": "ipython3",
   "version": "3.9.13"
  }
 },
 "nbformat": 4,
 "nbformat_minor": 5
}
